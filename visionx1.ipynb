{
  "nbformat": 4,
  "nbformat_minor": 0,
  "metadata": {
    "colab": {
      "name": "visionx1.ipynb",
      "provenance": [],
      "mount_file_id": "1B7vs8qvhhoMf5Tzg2KAoA58Cok8KsiEX",
      "authorship_tag": "ABX9TyOPusrIAcOpaowOEKbNWqSv",
      "include_colab_link": true
    },
    "kernelspec": {
      "name": "python3",
      "display_name": "Python 3"
    },
    "accelerator": "GPU"
  },
  "cells": [
    {
      "cell_type": "markdown",
      "metadata": {
        "id": "view-in-github",
        "colab_type": "text"
      },
      "source": [
        "<a href=\"https://colab.research.google.com/github/aliceliang0/GitPractice/blob/master/visionx1.ipynb\" target=\"_parent\"><img src=\"https://colab.research.google.com/assets/colab-badge.svg\" alt=\"Open In Colab\"/></a>"
      ]
    },
    {
      "cell_type": "code",
      "metadata": {
        "id": "xdK2BA5PoOAM",
        "colab_type": "code",
        "colab": {}
      },
      "source": [
        "from keras.applications.resnet50 import ResNet50, preprocess_input"
      ],
      "execution_count": 4,
      "outputs": []
    },
    {
      "cell_type": "code",
      "metadata": {
        "id": "DD7Bc7BKoi0m",
        "colab_type": "code",
        "colab": {
          "base_uri": "https://localhost:8080/",
          "height": 357
        },
        "outputId": "c47f4e39-a7ac-463f-e193-a80fd010642b"
      },
      "source": [
        "!nvidia-smi"
      ],
      "execution_count": 1,
      "outputs": [
        {
          "output_type": "stream",
          "text": [
            "Fri Aug 14 01:50:49 2020       \n",
            "+-----------------------------------------------------------------------------+\n",
            "| NVIDIA-SMI 450.57       Driver Version: 418.67       CUDA Version: 10.1     |\n",
            "|-------------------------------+----------------------+----------------------+\n",
            "| GPU  Name        Persistence-M| Bus-Id        Disp.A | Volatile Uncorr. ECC |\n",
            "| Fan  Temp  Perf  Pwr:Usage/Cap|         Memory-Usage | GPU-Util  Compute M. |\n",
            "|                               |                      |               MIG M. |\n",
            "|===============================+======================+======================|\n",
            "|   0  Tesla T4            Off  | 00000000:00:04.0 Off |                    0 |\n",
            "| N/A   55C    P8    10W /  70W |      0MiB / 15079MiB |      0%      Default |\n",
            "|                               |                      |                 ERR! |\n",
            "+-------------------------------+----------------------+----------------------+\n",
            "                                                                               \n",
            "+-----------------------------------------------------------------------------+\n",
            "| Processes:                                                                  |\n",
            "|  GPU   GI   CI        PID   Type   Process name                  GPU Memory |\n",
            "|        ID   ID                                                   Usage      |\n",
            "|=============================================================================|\n",
            "|  No running processes found                                                 |\n",
            "+-----------------------------------------------------------------------------+\n"
          ],
          "name": "stdout"
        }
      ]
    },
    {
      "cell_type": "code",
      "metadata": {
        "id": "52m_-XDqoX84",
        "colab_type": "code",
        "colab": {
          "base_uri": "https://localhost:8080/",
          "height": 71
        },
        "outputId": "81b578a5-9083-4662-835b-88fa871aa15f"
      },
      "source": [
        "HEIGHT = 300\n",
        "WIDTH = 300\n",
        "\n",
        "base_model = ResNet50(weights='imagenet', \n",
        "                      include_top=False, \n",
        "                      input_shape=(HEIGHT, WIDTH, 3))"
      ],
      "execution_count": 5,
      "outputs": [
        {
          "output_type": "stream",
          "text": [
            "Downloading data from https://storage.googleapis.com/tensorflow/keras-applications/resnet/resnet50_weights_tf_dim_ordering_tf_kernels_notop.h5\n",
            "94773248/94765736 [==============================] - 1s 0us/step\n"
          ],
          "name": "stdout"
        }
      ]
    },
    {
      "cell_type": "code",
      "metadata": {
        "id": "UoVuf-zypmEG",
        "colab_type": "code",
        "colab": {
          "base_uri": "https://localhost:8080/",
          "height": 35
        },
        "outputId": "065f264b-9679-464e-9745-9cec4fd45e17"
      },
      "source": [
        "import tensorflow as tf\n",
        "tf.test.gpu_device_name()"
      ],
      "execution_count": 3,
      "outputs": [
        {
          "output_type": "execute_result",
          "data": {
            "application/vnd.google.colaboratory.intrinsic+json": {
              "type": "string"
            },
            "text/plain": [
              "'/device:GPU:0'"
            ]
          },
          "metadata": {
            "tags": []
          },
          "execution_count": 3
        }
      ]
    },
    {
      "cell_type": "code",
      "metadata": {
        "id": "GliORRObpxGs",
        "colab_type": "code",
        "colab": {
          "base_uri": "https://localhost:8080/",
          "height": 170
        },
        "outputId": "99924476-7d34-42f9-fd8e-37979e04708e"
      },
      "source": [
        "# Check nvcc version\n",
        "!nvcc -V\n",
        "# Check GCC version\n",
        "!gcc --version"
      ],
      "execution_count": 2,
      "outputs": [
        {
          "output_type": "stream",
          "text": [
            "nvcc: NVIDIA (R) Cuda compiler driver\n",
            "Copyright (c) 2005-2019 NVIDIA Corporation\n",
            "Built on Sun_Jul_28_19:07:16_PDT_2019\n",
            "Cuda compilation tools, release 10.1, V10.1.243\n",
            "gcc (Ubuntu 7.5.0-3ubuntu1~18.04) 7.5.0\n",
            "Copyright (C) 2017 Free Software Foundation, Inc.\n",
            "This is free software; see the source for copying conditions.  There is NO\n",
            "warranty; not even for MERCHANTABILITY or FITNESS FOR A PARTICULAR PURPOSE.\n",
            "\n"
          ],
          "name": "stdout"
        }
      ]
    },
    {
      "cell_type": "code",
      "metadata": {
        "id": "rNXNP0WwqOj_",
        "colab_type": "code",
        "colab": {
          "base_uri": "https://localhost:8080/",
          "height": 34
        },
        "outputId": "34634502-2614-4a37-a345-e799a682f990"
      },
      "source": [
        "from keras.preprocessing.image import ImageDataGenerator\n",
        "\n",
        "TRAIN_DIR = \"/content/drive/My Drive/visiondata/data3_car/train\"\n",
        "HEIGHT = 300\n",
        "WIDTH = 300\n",
        "BATCH_SIZE = 8\n",
        "\n",
        "train_datagen =  ImageDataGenerator(\n",
        "      rescale=1./255,\n",
        "        shear_range=0.2,\n",
        "        zoom_range=0.2,\n",
        "        horizontal_flip=True\n",
        "    )\n",
        "\n",
        "train_generator = train_datagen.flow_from_directory(TRAIN_DIR, \n",
        "                                                    target_size=(HEIGHT, WIDTH), \n",
        "                                                    batch_size=BATCH_SIZE,\n",
        "                                                    class_mode='categorical')"
      ],
      "execution_count": 27,
      "outputs": [
        {
          "output_type": "stream",
          "text": [
            "Found 520 images belonging to 5 classes.\n"
          ],
          "name": "stdout"
        }
      ]
    },
    {
      "cell_type": "code",
      "metadata": {
        "id": "AO5czf5KvuKG",
        "colab_type": "code",
        "colab": {
          "base_uri": "https://localhost:8080/",
          "height": 34
        },
        "outputId": "4c11cd54-2822-48c1-a6b8-b3a5ba2b07e9"
      },
      "source": [
        "from keras.preprocessing.image import ImageDataGenerator\n",
        "\n",
        "val_DIR = \"/content/drive/My Drive/visiondata/data3_car/val\"\n",
        "HEIGHT = 300\n",
        "WIDTH = 300\n",
        "BATCH_SIZE = 8\n",
        "\n",
        "val_datagen =  ImageDataGenerator(\n",
        "      rescale=1./255\n",
        "    )\n",
        "\n",
        "val_generator = val_datagen.flow_from_directory(val_DIR, \n",
        "                                                    target_size=(HEIGHT, WIDTH), \n",
        "                                                    batch_size=BATCH_SIZE,\n",
        "                                                class_mode='categorical')"
      ],
      "execution_count": 28,
      "outputs": [
        {
          "output_type": "stream",
          "text": [
            "Found 88 images belonging to 5 classes.\n"
          ],
          "name": "stdout"
        }
      ]
    },
    {
      "cell_type": "code",
      "metadata": {
        "id": "PONagrXmrTMR",
        "colab_type": "code",
        "colab": {}
      },
      "source": [
        "#popping layers:By setting the layer.trainable=False\n",
        "#we can add on our FC layers\n",
        "from keras.layers import Dense, Activation, Flatten, Dropout\n",
        "from keras.models import Sequential, Model\n",
        "\n",
        "def build_finetune_model(base_model, dropout, fc_layers, num_classes):\n",
        "    for layer in base_model.layers:\n",
        "        layer.trainable = False\n",
        "\n",
        "    x = base_model.output\n",
        "    x = Flatten()(x)\n",
        "    for fc in fc_layers:\n",
        "        # New FC layer, random init\n",
        "        x = Dense(fc, activation='relu')(x) \n",
        "        x = Dropout(dropout)(x)\n",
        "\n",
        "    # New softmax layer\n",
        "    predictions = Dense(num_classes, activation='softmax')(x) \n",
        "    \n",
        "    finetune_model = Model(inputs=base_model.input, outputs=predictions)\n",
        "\n",
        "    return finetune_model\n",
        "\n",
        "# class_list = [\"NO\", \"P1\", \"P2\", \"P3\", \"P4\"]\n",
        "FC_LAYERS = [1024, 1024]\n",
        "dropout = 0.5\n",
        "\n",
        "finetune_model = build_finetune_model(base_model, \n",
        "                                      dropout=dropout, \n",
        "                                      fc_layers=FC_LAYERS, \n",
        "                                      num_classes=5)"
      ],
      "execution_count": 29,
      "outputs": []
    },
    {
      "cell_type": "code",
      "metadata": {
        "id": "e8hDmmnVr_sg",
        "colab_type": "code",
        "colab": {
          "base_uri": "https://localhost:8080/",
          "height": 1000
        },
        "outputId": "c7b2921c-e328-4017-d382-175ba3ea11bf"
      },
      "source": [
        "#Finetuning\n",
        "from keras.optimizers import SGD, Adam\n",
        "from keras.callbacks import ModelCheckpoint\n",
        "import matplotlib.pyplot as plt\n",
        "\n",
        "NUM_EPOCHS = 30\n",
        "BATCH_SIZE = 8\n",
        "num_train_images = 520\n",
        "\n",
        "adam = Adam(lr=0.00001)\n",
        "finetune_model.compile(adam, loss='categorical_crossentropy', metrics=['accuracy'])\n",
        "\n",
        "filepath=\"./checkpoints/\" + \"ResNet50\" + \"_model_weights.h5\"\n",
        "checkpoint = ModelCheckpoint(filepath, monitor=[\"acc\"], verbose=1, mode='max')\n",
        "callbacks_list = [checkpoint]\n",
        "\n",
        "history = finetune_model.fit_generator(train_generator, epochs=NUM_EPOCHS, workers=8, \n",
        "                                       steps_per_epoch=num_train_images // BATCH_SIZE, \n",
        "                                       shuffle=True, validation_data=val_generator,\n",
        "                                       validation_steps=88//BATCH_SIZE,callbacks=callbacks_list)\n",
        "\n",
        "\n"
      ],
      "execution_count": 31,
      "outputs": [
        {
          "output_type": "stream",
          "text": [
            "Epoch 1/30\n",
            "65/65 [==============================] - ETA: 0s - loss: 1.3856 - accuracy: 0.4115\n",
            "Epoch 00001: saving model to ./checkpoints/ResNet50_model_weights.h5\n",
            "65/65 [==============================] - 22s 340ms/step - loss: 1.3856 - accuracy: 0.4115 - val_loss: 1.0881 - val_accuracy: 0.8295\n",
            "Epoch 2/30\n",
            "65/65 [==============================] - ETA: 0s - loss: 1.2448 - accuracy: 0.4827\n",
            "Epoch 00002: saving model to ./checkpoints/ResNet50_model_weights.h5\n",
            "65/65 [==============================] - 20s 310ms/step - loss: 1.2448 - accuracy: 0.4827 - val_loss: 0.9947 - val_accuracy: 0.6023\n",
            "Epoch 3/30\n",
            "65/65 [==============================] - ETA: 0s - loss: 1.2060 - accuracy: 0.5000\n",
            "Epoch 00003: saving model to ./checkpoints/ResNet50_model_weights.h5\n",
            "65/65 [==============================] - 20s 310ms/step - loss: 1.2060 - accuracy: 0.5000 - val_loss: 0.9846 - val_accuracy: 0.8409\n",
            "Epoch 4/30\n",
            "65/65 [==============================] - ETA: 0s - loss: 1.1262 - accuracy: 0.5385\n",
            "Epoch 00004: saving model to ./checkpoints/ResNet50_model_weights.h5\n",
            "65/65 [==============================] - 20s 309ms/step - loss: 1.1262 - accuracy: 0.5385 - val_loss: 0.9184 - val_accuracy: 0.8523\n",
            "Epoch 5/30\n",
            "65/65 [==============================] - ETA: 0s - loss: 1.0823 - accuracy: 0.5788\n",
            "Epoch 00005: saving model to ./checkpoints/ResNet50_model_weights.h5\n",
            "65/65 [==============================] - 20s 309ms/step - loss: 1.0823 - accuracy: 0.5788 - val_loss: 0.8112 - val_accuracy: 0.6591\n",
            "Epoch 6/30\n",
            "65/65 [==============================] - ETA: 0s - loss: 1.0542 - accuracy: 0.5865\n",
            "Epoch 00006: saving model to ./checkpoints/ResNet50_model_weights.h5\n",
            "65/65 [==============================] - 20s 313ms/step - loss: 1.0542 - accuracy: 0.5865 - val_loss: 0.7174 - val_accuracy: 0.8636\n",
            "Epoch 7/30\n",
            "65/65 [==============================] - ETA: 0s - loss: 0.9853 - accuracy: 0.6135\n",
            "Epoch 00007: saving model to ./checkpoints/ResNet50_model_weights.h5\n",
            "65/65 [==============================] - 20s 310ms/step - loss: 0.9853 - accuracy: 0.6135 - val_loss: 0.7104 - val_accuracy: 0.8636\n",
            "Epoch 8/30\n",
            "65/65 [==============================] - ETA: 0s - loss: 0.9218 - accuracy: 0.6442\n",
            "Epoch 00008: saving model to ./checkpoints/ResNet50_model_weights.h5\n",
            "65/65 [==============================] - 20s 311ms/step - loss: 0.9218 - accuracy: 0.6442 - val_loss: 0.6808 - val_accuracy: 0.7500\n",
            "Epoch 9/30\n",
            "65/65 [==============================] - ETA: 0s - loss: 0.8540 - accuracy: 0.6673\n",
            "Epoch 00009: saving model to ./checkpoints/ResNet50_model_weights.h5\n",
            "65/65 [==============================] - 20s 315ms/step - loss: 0.8540 - accuracy: 0.6673 - val_loss: 0.6633 - val_accuracy: 0.8523\n",
            "Epoch 10/30\n",
            "65/65 [==============================] - ETA: 0s - loss: 0.8839 - accuracy: 0.6558\n",
            "Epoch 00010: saving model to ./checkpoints/ResNet50_model_weights.h5\n",
            "65/65 [==============================] - 20s 312ms/step - loss: 0.8839 - accuracy: 0.6558 - val_loss: 0.6139 - val_accuracy: 0.8750\n",
            "Epoch 11/30\n",
            "65/65 [==============================] - ETA: 0s - loss: 0.8113 - accuracy: 0.7154\n",
            "Epoch 00011: saving model to ./checkpoints/ResNet50_model_weights.h5\n",
            "65/65 [==============================] - 20s 312ms/step - loss: 0.8113 - accuracy: 0.7154 - val_loss: 0.5882 - val_accuracy: 0.8409\n",
            "Epoch 12/30\n",
            "65/65 [==============================] - ETA: 0s - loss: 0.7687 - accuracy: 0.7346\n",
            "Epoch 00012: saving model to ./checkpoints/ResNet50_model_weights.h5\n",
            "65/65 [==============================] - 20s 310ms/step - loss: 0.7687 - accuracy: 0.7346 - val_loss: 0.5094 - val_accuracy: 0.8977\n",
            "Epoch 13/30\n",
            "65/65 [==============================] - ETA: 0s - loss: 0.7507 - accuracy: 0.7327\n",
            "Epoch 00013: saving model to ./checkpoints/ResNet50_model_weights.h5\n",
            "65/65 [==============================] - 20s 308ms/step - loss: 0.7507 - accuracy: 0.7327 - val_loss: 0.4761 - val_accuracy: 0.8636\n",
            "Epoch 14/30\n",
            "65/65 [==============================] - ETA: 0s - loss: 0.7295 - accuracy: 0.7288\n",
            "Epoch 00014: saving model to ./checkpoints/ResNet50_model_weights.h5\n",
            "65/65 [==============================] - 20s 311ms/step - loss: 0.7295 - accuracy: 0.7288 - val_loss: 0.4868 - val_accuracy: 0.8750\n",
            "Epoch 15/30\n",
            "65/65 [==============================] - ETA: 0s - loss: 0.7252 - accuracy: 0.7442\n",
            "Epoch 00015: saving model to ./checkpoints/ResNet50_model_weights.h5\n",
            "65/65 [==============================] - 20s 309ms/step - loss: 0.7252 - accuracy: 0.7442 - val_loss: 0.4496 - val_accuracy: 0.8977\n",
            "Epoch 16/30\n",
            "65/65 [==============================] - ETA: 0s - loss: 0.6993 - accuracy: 0.7519\n",
            "Epoch 00016: saving model to ./checkpoints/ResNet50_model_weights.h5\n",
            "65/65 [==============================] - 20s 312ms/step - loss: 0.6993 - accuracy: 0.7519 - val_loss: 0.4731 - val_accuracy: 0.8409\n",
            "Epoch 17/30\n",
            "65/65 [==============================] - ETA: 0s - loss: 0.7006 - accuracy: 0.7654\n",
            "Epoch 00017: saving model to ./checkpoints/ResNet50_model_weights.h5\n",
            "65/65 [==============================] - 20s 310ms/step - loss: 0.7006 - accuracy: 0.7654 - val_loss: 0.4489 - val_accuracy: 0.8636\n",
            "Epoch 18/30\n",
            "65/65 [==============================] - ETA: 0s - loss: 0.6184 - accuracy: 0.7750\n",
            "Epoch 00018: saving model to ./checkpoints/ResNet50_model_weights.h5\n",
            "65/65 [==============================] - 20s 314ms/step - loss: 0.6184 - accuracy: 0.7750 - val_loss: 0.4069 - val_accuracy: 0.8750\n",
            "Epoch 19/30\n",
            "65/65 [==============================] - ETA: 0s - loss: 0.5854 - accuracy: 0.8077\n",
            "Epoch 00019: saving model to ./checkpoints/ResNet50_model_weights.h5\n",
            "65/65 [==============================] - 21s 319ms/step - loss: 0.5854 - accuracy: 0.8077 - val_loss: 0.4052 - val_accuracy: 0.8409\n",
            "Epoch 20/30\n",
            "65/65 [==============================] - ETA: 0s - loss: 0.6088 - accuracy: 0.7846\n",
            "Epoch 00020: saving model to ./checkpoints/ResNet50_model_weights.h5\n",
            "65/65 [==============================] - 21s 316ms/step - loss: 0.6088 - accuracy: 0.7846 - val_loss: 0.3904 - val_accuracy: 0.8864\n",
            "Epoch 21/30\n",
            "65/65 [==============================] - ETA: 0s - loss: 0.6019 - accuracy: 0.7923\n",
            "Epoch 00021: saving model to ./checkpoints/ResNet50_model_weights.h5\n",
            "65/65 [==============================] - 21s 317ms/step - loss: 0.6019 - accuracy: 0.7923 - val_loss: 0.3665 - val_accuracy: 0.8977\n",
            "Epoch 22/30\n",
            "65/65 [==============================] - ETA: 0s - loss: 0.5876 - accuracy: 0.7942\n",
            "Epoch 00022: saving model to ./checkpoints/ResNet50_model_weights.h5\n",
            "65/65 [==============================] - 21s 319ms/step - loss: 0.5876 - accuracy: 0.7942 - val_loss: 0.4199 - val_accuracy: 0.8523\n",
            "Epoch 23/30\n",
            "65/65 [==============================] - ETA: 0s - loss: 0.5969 - accuracy: 0.7769\n",
            "Epoch 00023: saving model to ./checkpoints/ResNet50_model_weights.h5\n",
            "65/65 [==============================] - 21s 320ms/step - loss: 0.5969 - accuracy: 0.7769 - val_loss: 0.4145 - val_accuracy: 0.8750\n",
            "Epoch 24/30\n",
            "65/65 [==============================] - ETA: 0s - loss: 0.5180 - accuracy: 0.8288\n",
            "Epoch 00024: saving model to ./checkpoints/ResNet50_model_weights.h5\n",
            "65/65 [==============================] - 20s 315ms/step - loss: 0.5180 - accuracy: 0.8288 - val_loss: 0.3579 - val_accuracy: 0.8636\n",
            "Epoch 25/30\n",
            "65/65 [==============================] - ETA: 0s - loss: 0.5370 - accuracy: 0.8173\n",
            "Epoch 00025: saving model to ./checkpoints/ResNet50_model_weights.h5\n",
            "65/65 [==============================] - 20s 312ms/step - loss: 0.5370 - accuracy: 0.8173 - val_loss: 0.3596 - val_accuracy: 0.8750\n",
            "Epoch 26/30\n",
            "65/65 [==============================] - ETA: 0s - loss: 0.5331 - accuracy: 0.8288\n",
            "Epoch 00026: saving model to ./checkpoints/ResNet50_model_weights.h5\n",
            "65/65 [==============================] - 20s 315ms/step - loss: 0.5331 - accuracy: 0.8288 - val_loss: 0.3831 - val_accuracy: 0.8523\n",
            "Epoch 27/30\n",
            "65/65 [==============================] - ETA: 0s - loss: 0.4815 - accuracy: 0.8404\n",
            "Epoch 00027: saving model to ./checkpoints/ResNet50_model_weights.h5\n",
            "65/65 [==============================] - 20s 313ms/step - loss: 0.4815 - accuracy: 0.8404 - val_loss: 0.3446 - val_accuracy: 0.8977\n",
            "Epoch 28/30\n",
            "65/65 [==============================] - ETA: 0s - loss: 0.5257 - accuracy: 0.8308\n",
            "Epoch 00028: saving model to ./checkpoints/ResNet50_model_weights.h5\n",
            "65/65 [==============================] - 20s 309ms/step - loss: 0.5257 - accuracy: 0.8308 - val_loss: 0.3184 - val_accuracy: 0.8864\n",
            "Epoch 29/30\n",
            "65/65 [==============================] - ETA: 0s - loss: 0.4421 - accuracy: 0.8615\n",
            "Epoch 00029: saving model to ./checkpoints/ResNet50_model_weights.h5\n",
            "65/65 [==============================] - 20s 311ms/step - loss: 0.4421 - accuracy: 0.8615 - val_loss: 0.3851 - val_accuracy: 0.8409\n",
            "Epoch 30/30\n",
            "65/65 [==============================] - ETA: 0s - loss: 0.4619 - accuracy: 0.8462\n",
            "Epoch 00030: saving model to ./checkpoints/ResNet50_model_weights.h5\n",
            "65/65 [==============================] - 20s 311ms/step - loss: 0.4619 - accuracy: 0.8462 - val_loss: 0.3211 - val_accuracy: 0.8750\n"
          ],
          "name": "stdout"
        }
      ]
    },
    {
      "cell_type": "code",
      "metadata": {
        "id": "FUsve7h9tGGa",
        "colab_type": "code",
        "colab": {}
      },
      "source": [
        "\n",
        "# Plot the training and validation loss + accuracy\n",
        "# def plot_training(history):\n",
        "#     acc = history.history['accuracy']\n",
        "#     # val_acc = history.history['val_acccuracy']\n",
        "#     loss = history.history['loss']\n",
        "#     # val_loss = history.history['val_loss']\n",
        "#     epochs = range(len(acc))\n",
        "\n",
        "#     plt.plot(epochs, acc, 'r.')\n",
        "#     # plt.plot(epochs, val_acc, 'r')\n",
        "#     plt.title('Training accuracy')\n",
        "\n",
        "#     # plt.figure()\n",
        "#     # plt.plot(epochs, loss, 'r.')\n",
        "#     # plt.plot(epochs, val_loss, 'r-')\n",
        "#     # plt.title('Training and validation loss')\n",
        "#     plt.show()\n",
        "\n",
        "#     plt.savefig('acc_vs_epochs.png')"
      ],
      "execution_count": 19,
      "outputs": []
    },
    {
      "cell_type": "code",
      "metadata": {
        "id": "CcU8ws5NuZ1Q",
        "colab_type": "code",
        "colab": {
          "base_uri": "https://localhost:8080/",
          "height": 298
        },
        "outputId": "00f55ef9-dac4-43b9-8a11-a6ec5487df6c"
      },
      "source": [
        "# plot_training(history)"
      ],
      "execution_count": 20,
      "outputs": [
        {
          "output_type": "display_data",
          "data": {
            "image/png": "[encoded data removed]",
            "text/plain": [
              "<Figure size 432x288 with 1 Axes>"
            ]
          },
          "metadata": {
            "tags": [],
            "needs_background": "light"
          }
        },
        {
          "output_type": "display_data",
          "data": {
            "text/plain": [
              "<Figure size 432x288 with 0 Axes>"
            ]
          },
          "metadata": {
            "tags": []
          }
        }
      ]
    },
    {
      "cell_type": "code",
      "metadata": {
        "id": "VLvnrbneufPw",
        "colab_type": "code",
        "colab": {
          "base_uri": "https://localhost:8080/",
          "height": 295
        },
        "outputId": "b9c6b067-7ff7-4202-bed0-0e1d14c70f19"
      },
      "source": [
        "plt.figure()\n",
        "plt.plot(history.history['accuracy']) \n",
        "# plt.plot(history.history['val_accuracy'])\n",
        "plt.title('Model accuracy') \n",
        "plt.ylabel('Accuracy') \n",
        "plt.xlabel('Epoch') \n",
        "plt.legend(['Train', 'Test']) \n",
        "plt.show()"
      ],
      "execution_count": 18,
      "outputs": [
        {
          "output_type": "display_data",
          "data": {
            "image/png": "[encoded data removed]",
            "text/plain": [
              "<Figure size 432x288 with 1 Axes>"
            ]
          },
          "metadata": {
            "tags": [],
            "needs_background": "light"
          }
        }
      ]
    },
    {
      "cell_type": "code",
      "metadata": {
        "id": "M4Kju12x42e4",
        "colab_type": "code",
        "colab": {
          "base_uri": "https://localhost:8080/",
          "height": 267
        },
        "outputId": "f19184d8-4e9f-4285-9746-ac4e469bd577"
      },
      "source": [
        " plt.figure(1, figsize = (15,8)) \n",
        "    \n",
        "plt.subplot(221)  \n",
        "plt.plot(history.history['accuracy'])  \n",
        "plt.plot(history.history['val_accuracy'])  \n",
        "plt.title('model accuracy')  \n",
        "plt.ylabel('accuracy')  \n",
        "plt.xlabel('epoch')  \n",
        "plt.legend(['train', 'valid']) \n",
        "    \n",
        "plt.subplot(222)  \n",
        "plt.plot(history.history['loss'])  \n",
        "plt.plot(history.history['val_loss'])  \n",
        "plt.title('model loss')  \n",
        "plt.ylabel('loss')  \n",
        "plt.xlabel('epoch')  \n",
        "plt.legend(['train', 'valid']) \n",
        "\n",
        "plt.show()"
      ],
      "execution_count": 35,
      "outputs": [
        {
          "output_type": "display_data",
          "data": {
            "image/png": "[encoded data removed]",
            "text/plain": [
              "<Figure size 1080x576 with 2 Axes>"
            ]
          },
          "metadata": {
            "tags": [],
            "needs_background": "light"
          }
        }
      ]
    },
    {
      "cell_type": "code",
      "metadata": {
        "id": "q509a8_uGedv",
        "colab_type": "code",
        "colab": {}
      },
      "source": [
        ""
      ],
      "execution_count": null,
      "outputs": []
    }
  ]
}